{
 "cells": [
  {
   "cell_type": "code",
   "execution_count": 10,
   "id": "1822d220",
   "metadata": {},
   "outputs": [],
   "source": [
    "#importing operating system module to access our files in the os\n",
    "#importing shell utility(shutil) module to make changes in our files in the os\n",
    "\n",
    "import os,shutil"
   ]
  },
  {
   "cell_type": "code",
   "execution_count": 11,
   "id": "b8a9710f",
   "metadata": {},
   "outputs": [],
   "source": [
    "#giving the path where the files are stored\n",
    "\n",
    "path = r'/users/harishs/Documents/'"
   ]
  },
  {
   "cell_type": "code",
   "execution_count": 12,
   "id": "13b329c5",
   "metadata": {},
   "outputs": [],
   "source": [
    "#checking the files present in that folder\n",
    "\n",
    "file_name = os.listdir(path)"
   ]
  },
  {
   "cell_type": "code",
   "execution_count": 13,
   "id": "dc2ad4fe",
   "metadata": {},
   "outputs": [],
   "source": [
    "#creating folder names in a list\n",
    "\n",
    "folname = [\"CSV Files\",\"Dl Lab\",\"Test Questions\"]"
   ]
  },
  {
   "cell_type": "code",
   "execution_count": 14,
   "id": "2f8fd232",
   "metadata": {},
   "outputs": [],
   "source": [
    "#checking the path if it exists or not and creating the new folders\n",
    "\n",
    "\n",
    "for x in range(0,3):\n",
    "    if not os.path.exists(path + folname[x]):\n",
    "        os.makedirs(path + folname[x])"
   ]
  },
  {
   "cell_type": "code",
   "execution_count": 15,
   "id": "45ec0c8c",
   "metadata": {},
   "outputs": [],
   "source": [
    "#checking the file type and if it already exist or not\n",
    "#moving the files to their corresponding folders\n",
    "\n",
    "\n",
    "for file in file_name:\n",
    "    if \".csv\" in file and not os.path.exists(path + \"CSV Files/\" + file):\n",
    "        shutil.move(path + file, path + \"CSV Files/\" + file)\n",
    "    elif \".txt\" in file and not os.path.exists(path + \"Test Questions/\" + file):\n",
    "        shutil.move(path + file, path + \"Test Questions/\" + file)\n",
    "    elif \".docx\" in file and not os.path.exists(path + \"Dl Lab/\" + file):\n",
    "        shutil.move(path + file, path + \"Dl Lab/\" + file)"
   ]
  }
 ],
 "metadata": {
  "kernelspec": {
   "display_name": "Python 3 (ipykernel)",
   "language": "python",
   "name": "python3"
  },
  "language_info": {
   "codemirror_mode": {
    "name": "ipython",
    "version": 3
   },
   "file_extension": ".py",
   "mimetype": "text/x-python",
   "name": "python",
   "nbconvert_exporter": "python",
   "pygments_lexer": "ipython3",
   "version": "3.10.12"
  }
 },
 "nbformat": 4,
 "nbformat_minor": 5
}
